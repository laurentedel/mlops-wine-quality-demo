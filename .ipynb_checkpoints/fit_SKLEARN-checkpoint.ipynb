{
 "cells": [
  {
   "cell_type": "code",
   "execution_count": null,
   "metadata": {
    "scrolled": true
   },
   "outputs": [],
   "source": [
    "!pip3 install sklearn"
   ]
  },
  {
   "cell_type": "code",
   "execution_count": null,
   "metadata": {},
   "outputs": [],
   "source": [
    "import numpy as np\n",
    "import pandas as pd\n",
    "\n",
    "input_file = \"data/WineNewGBTDataSet.csv\"\n",
    "col_Names=[\"fixedAcidity\",\n",
    "    \"volatileAcidity\",\n",
    "    \"citricAcid\",\n",
    "    \"residualSugar\",\n",
    "    \"chlorides\",\n",
    "    \"freeSulfurDioxide\",\n",
    "    \"totalSulfurDioxide\",\n",
    "    \"density\",\n",
    "    \"pH\",\n",
    "    \"sulphates\",\n",
    "    \"Alcohol\",\n",
    "    \"Quality\"]\n",
    "\n",
    "wine_df = pd.read_csv(input_file,sep=\";\",header=None, names=col_Names)\n",
    "wine_df.head()"
   ]
  },
  {
   "cell_type": "code",
   "execution_count": null,
   "metadata": {},
   "outputs": [],
   "source": [
    "#check labels\n",
    "print(wine_df.Quality.unique())"
   ]
  },
  {
   "cell_type": "code",
   "execution_count": null,
   "metadata": {},
   "outputs": [],
   "source": [
    "#clean up and encode labels\n",
    "wine_df.Quality.replace('1',\"Excellent\",inplace=True)\n",
    "wine_df.describe()"
   ]
  },
  {
   "cell_type": "code",
   "execution_count": null,
   "metadata": {},
   "outputs": [],
   "source": [
    "#encode labels \n",
    "wine_df.Quality = pd.Categorical(wine_df.Quality)\n",
    "wine_df['Label'] = wine_df.Quality.cat.codes\n",
    "wine_df.head()"
   ]
  },
  {
   "cell_type": "code",
   "execution_count": null,
   "metadata": {},
   "outputs": [],
   "source": [
    "#random forest Classifier Grid Search\n",
    "from sklearn.ensemble import RandomForestClassifier\n",
    "from sklearn.model_selection import GridSearchCV\n",
    "from sklearn.model_selection import train_test_split\n",
    "\n",
    "X_train, X_test, y_train, y_test = train_test_split(wine_df.iloc[:,:11],\n",
    "                                                    wine_df['Label'],\n",
    "                                                    test_size=0.3, \n",
    "                                                    random_state=30)\n",
    "\n",
    "#parameters for grid search\n",
    "rfc = RandomForestClassifier(random_state=10)\n",
    "\n",
    "GS_params = { \n",
    "    'n_estimators': [50,70,90],\n",
    "    'max_depth' : [5,7,9]\n",
    "}\n",
    "\n",
    "#Cross Validation Grid Search\n",
    "CV_rfc = GridSearchCV(estimator=rfc, \n",
    "                      param_grid=GS_params, \n",
    "                      cv= 3,\n",
    "                      n_jobs=-1,\n",
    "                      verbose=1)\n",
    "CV_rfc.fit(X_train, y_train)"
   ]
  },
  {
   "cell_type": "code",
   "execution_count": null,
   "metadata": {},
   "outputs": [],
   "source": [
    "#final Model\n",
    "rfc_final = CV_rfc.best_estimator_\n",
    "#Show Best Parameters \n",
    "print(CV_rfc.best_params_)\n",
    "\n",
    "#Predict on test dataset\n",
    "y_true, y_pred = y_test, rfc_final.predict(X_test)\n",
    "y_pred_proba = rfc_final.predict_proba(X_test)[:,1]"
   ]
  },
  {
   "cell_type": "code",
   "execution_count": null,
   "metadata": {},
   "outputs": [],
   "source": [
    "#Evaluation metrics matrix\n",
    "from sklearn.metrics import classification_report\n",
    "print(classification_report(y_true, y_pred))"
   ]
  },
  {
   "cell_type": "code",
   "execution_count": null,
   "metadata": {
    "scrolled": true
   },
   "outputs": [],
   "source": [
    "# Calcultate points for ROC Curve\n",
    "from sklearn.metrics import roc_curve,roc_auc_score\n",
    "# get Area Under ROC curve\n",
    "auc = roc_auc_score(y_true, y_pred)\n",
    "# get False Positive Rate and True Positive Rate  \n",
    "fpr, tpr, _ = roc_curve(y_true, y_pred_proba)"
   ]
  },
  {
   "cell_type": "code",
   "execution_count": null,
   "metadata": {},
   "outputs": [],
   "source": [
    "#Plot ROC Curve\n",
    "%matplotlib notebook\n",
    "import matplotlib.pyplot as plt\n",
    "\n",
    "plt.plot(fpr,tpr,label=\"RandomForest classifier, auc=\"+str(auc))\n",
    "plt.plot([0, 1], [0, 1], linestyle='--',color='r',label='Chance')\n",
    "plt.xlabel('False Positive Rate')\n",
    "plt.ylabel('True Positive Rate')\n",
    "plt.title('ROC Curve')\n",
    "plt.legend(loc=\"lower right\")\n",
    "\n",
    "plt.show()"
   ]
  },
  {
   "cell_type": "code",
   "execution_count": null,
   "metadata": {},
   "outputs": [],
   "source": [
    "#Save Model\n",
    "from joblib import dump\n",
    "dump(rfc_final, 'sklearn_model.joblib') "
   ]
  },
  {
   "cell_type": "code",
   "execution_count": null,
   "metadata": {},
   "outputs": [],
   "source": []
  }
 ],
 "metadata": {
  "kernelspec": {
   "display_name": "Python 3",
   "language": "python",
   "name": "python3"
  },
  "language_info": {
   "codemirror_mode": {
    "name": "ipython",
    "version": 3
   },
   "file_extension": ".py",
   "mimetype": "text/x-python",
   "name": "python",
   "nbconvert_exporter": "python",
   "pygments_lexer": "ipython3",
   "version": "3.6.8"
  }
 },
 "nbformat": 4,
 "nbformat_minor": 4
}
